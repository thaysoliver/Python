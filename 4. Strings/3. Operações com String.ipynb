{
 "cells": [
  {
   "cell_type": "markdown",
   "metadata": {},
   "source": [
    "# Operações com String\n",
    "\n",
    "str -> transforma número em string<br>\n",
    "in -> verifica se um texto está contido dentro do outro<br>\n",
    "operador + -> concatenar string<br>\n",
    "format e {} -> substitui valores<br>\n",
    "%s -> substitui textos<br>\n",
    "%d -> substitui números decimais<br>\n",
    "\n",
    "Vamos deixar uma cartilha para download"
   ]
  },
  {
   "cell_type": "code",
   "execution_count": 1,
   "metadata": {},
   "outputs": [],
   "source": [
    "faturamento = 1000\n",
    "custo = 500\n",
    "lucro = faturamento - custo"
   ]
  },
  {
   "cell_type": "markdown",
   "metadata": {},
   "source": [
    "Uso do str() e do concatenar com +"
   ]
  },
  {
   "cell_type": "code",
   "execution_count": 3,
   "metadata": {},
   "outputs": [
    {
     "name": "stdout",
     "output_type": "stream",
     "text": [
      "O faturamento da loja foi de: 1000\n"
     ]
    }
   ],
   "source": [
    "print ('O faturamento da loja foi de: ' + str(faturamento))"
   ]
  },
  {
   "cell_type": "markdown",
   "metadata": {},
   "source": [
    "Uso do Format"
   ]
  },
  {
   "cell_type": "code",
   "execution_count": 8,
   "metadata": {},
   "outputs": [
    {
     "name": "stdout",
     "output_type": "stream",
     "text": [
      "O faturamento foi de: 1000.  O custo foi de 500 e o Lucro foi de 500\n",
      "O faturamento foi de: 1000.  O custo foi de 500 e o Lucro foi de 500. Lembrando que o faturamento foi de 1000\n"
     ]
    }
   ],
   "source": [
    "print('O faturamento foi de: {}.  O custo foi de {} e o Lucro foi de {}'.format(faturamento,custo,lucro))\n",
    "print('O faturamento foi de: {0}.  O custo foi de {1} e o Lucro foi de {2}. Lembrando que o faturamento foi de {0}'.format(faturamento,custo,lucro))"
   ]
  },
  {
   "cell_type": "markdown",
   "metadata": {},
   "source": [
    "Uso do %s e %d"
   ]
  },
  {
   "cell_type": "code",
   "execution_count": 13,
   "metadata": {},
   "outputs": [
    {
     "name": "stdout",
     "output_type": "stream",
     "text": [
      "O faturamento foi de: 1000. O custo foi de 500 e o Lucro foi de 500\n"
     ]
    }
   ],
   "source": [
    "print ('O faturamento foi de: %d. O custo foi de %d e o Lucro foi de %d' % (faturamento,custo, lucro))"
   ]
  },
  {
   "cell_type": "markdown",
   "metadata": {},
   "source": [
    "Uso do in (mais exercícios práticos nas próximas aulas)"
   ]
  },
  {
   "cell_type": "code",
   "execution_count": 14,
   "metadata": {},
   "outputs": [
    {
     "name": "stdout",
     "output_type": "stream",
     "text": [
      "True\n",
      "False\n"
     ]
    }
   ],
   "source": [
    "print('@' in 'lira@gmail.com')\n",
    "print('@' in 'lira.gmail.com')"
   ]
  }
 ],
 "metadata": {
  "kernelspec": {
   "display_name": "Python 3",
   "language": "python",
   "name": "python3"
  },
  "language_info": {
   "codemirror_mode": {
    "name": "ipython",
    "version": 3
   },
   "file_extension": ".py",
   "mimetype": "text/x-python",
   "name": "python",
   "nbconvert_exporter": "python",
   "pygments_lexer": "ipython3",
   "version": "3.8.8"
  }
 },
 "nbformat": 4,
 "nbformat_minor": 4
}
