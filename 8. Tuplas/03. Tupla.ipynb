{
 "cells": [
  {
   "cell_type": "markdown",
   "metadata": {},
   "source": [
    "# Aplicação de Tupla - Lista de Tuplas\n",
    "\n",
    "### Estrutura:\n",
    "\n",
    "Além de casos como o do enumerate, em que usamos uma função para transformar itens em tuplas porque isso ajuda o nosso código, temos também listas de tuplas como algo comum dentro do Python."
   ]
  },
  {
   "cell_type": "raw",
   "metadata": {},
   "source": [
    "lista = [\n",
    "    tupla1,\n",
    "    tupla2,\n",
    "    tupla3,\n",
    "    ]\n",
    "    \n",
    "ou seja\n",
    "\n",
    "lista = [\n",
    "    (valor1, valor2, valor3),\n",
    "    (valor4, valor5, valor6),\n",
    "    (valor7, valor8, valor9),\n",
    "    ]"
   ]
  },
  {
   "cell_type": "markdown",
   "metadata": {},
   "source": [
    "### Exemplo:\n",
    "\n",
    "Digamos que você está analisando as vendas do Banco de Dados de um e-commerce.\n",
    "\n",
    "Em um determinado dia, você extraiu as vendas do Banco de Dados e elas vieram nesse formato:"
   ]
  },
  {
   "cell_type": "code",
   "execution_count": 23,
   "metadata": {},
   "outputs": [
    {
     "data": {
      "text/plain": [
       "[('20/08/2020', 'iphone x', 'azul', '128gb', 350, 4000),\n",
       " ('20/08/2020', 'iphone x', 'prata', '128gb', 1500, 4000),\n",
       " ('20/08/2020', 'ipad', 'prata', '256gb', 127, 6000),\n",
       " ('20/08/2020', 'ipad', 'prata', '128gb', 981, 5000),\n",
       " ('21/08/2020', 'iphone x', 'azul', '128gb', 397, 4000),\n",
       " ('21/08/2020', 'iphone x', 'prata', '128gb', 1017, 4000),\n",
       " ('21/08/2020', 'ipad', 'prata', '256gb', 50, 6000),\n",
       " ('21/08/2020', 'ipad', 'prata', '128gb', 4000, 5000)]"
      ]
     },
     "execution_count": 23,
     "metadata": {},
     "output_type": "execute_result"
    }
   ],
   "source": [
    "vendas = [\n",
    "    ('20/08/2020', 'iphone x', 'azul', '128gb', 350, 4000),\n",
    "    ('20/08/2020', 'iphone x', 'prata', '128gb', 1500, 4000),\n",
    "    ('20/08/2020', 'ipad', 'prata', '256gb', 127, 6000),\n",
    "    ('20/08/2020', 'ipad', 'prata', '128gb', 981, 5000),\n",
    "    ('21/08/2020', 'iphone x', 'azul', '128gb', 397, 4000),\n",
    "    ('21/08/2020', 'iphone x', 'prata', '128gb', 1017, 4000),\n",
    "    ('21/08/2020', 'ipad', 'prata', '256gb', 50, 6000),\n",
    "    ('21/08/2020', 'ipad', 'prata', '128gb', 4000, 5000),\n",
    "]\n",
    "vendas"
   ]
  },
  {
   "cell_type": "markdown",
   "metadata": {},
   "source": [
    "- Qual foi o faturamento de IPhone no dia 20/08/2020?\n",
    "- Qual foi o produto mais vendido (em unidades) no dia 21/08/2020?"
   ]
  },
  {
   "cell_type": "code",
   "execution_count": 6,
   "metadata": {},
   "outputs": [
    {
     "data": {
      "text/plain": [
       "1400000"
      ]
     },
     "execution_count": 6,
     "metadata": {},
     "output_type": "execute_result"
    }
   ],
   "source": [
    "data, produto,cor, capacidade, unidades, valor_unitario = vendas[0]\n",
    "faturamento = unidades * valor_unitario\n",
    "faturamento"
   ]
  },
  {
   "cell_type": "code",
   "execution_count": 26,
   "metadata": {},
   "outputs": [
    {
     "name": "stdout",
     "output_type": "stream",
     "text": [
      " O faturamento de Iphone no dia 20/08/2020 foi de 7400000\n"
     ]
    }
   ],
   "source": [
    "faturamento = 0 \n",
    "for item in vendas:\n",
    "    data, produto, cor, capacidade, unidades, valor_unitario = item\n",
    "    if produto == 'iphone x' and data == \"20/08/2020\":\n",
    "        faturamento += unidades * valor_unitario\n",
    "print(' O faturamento de Iphone no dia 20/08/2020 foi de {}'.format(faturamento))        \n",
    "        "
   ]
  },
  {
   "cell_type": "markdown",
   "metadata": {},
   "source": [
    "- Qual foi o produto mais vendido (em unidades) no dia 21/08/2020?"
   ]
  },
  {
   "cell_type": "code",
   "execution_count": 31,
   "metadata": {},
   "outputs": [
    {
     "ename": "SyntaxError",
     "evalue": "invalid syntax (<ipython-input-31-976971232ff2>, line 6)",
     "output_type": "error",
     "traceback": [
      "\u001b[1;36m  File \u001b[1;32m\"<ipython-input-31-976971232ff2>\"\u001b[1;36m, line \u001b[1;32m6\u001b[0m\n\u001b[1;33m    if unidades > qtde_produto_mais_vendido\u001b[0m\n\u001b[1;37m                                           ^\u001b[0m\n\u001b[1;31mSyntaxError\u001b[0m\u001b[1;31m:\u001b[0m invalid syntax\n"
     ]
    }
   ],
   "source": [
    "produto_mais_vendido = ' '\n",
    "qtde_produto_mais_vendido = 0\n",
    "for item in vendas:\n",
    "        data, produto, cor, capacidade, unidades, valor_unitario = item\n",
    "        if  data == ' 21/08/2020':\n",
    "            if unidades > qtde_produto_mais_vendido\n",
    "            produto_mais_vendido = produto\n",
    "            qtde_produto_mais_vendido = unidades\n",
    "            \n",
    "print( 'Meu produto mais vendido no dia 21/08/2020 foi de {} com {} unidades'. format(produto_mais_vendido, qtde_produto_mais_vendido))            \n",
    "        \n",
    "        "
   ]
  }
 ],
 "metadata": {
  "kernelspec": {
   "display_name": "Python 3",
   "language": "python",
   "name": "python3"
  },
  "language_info": {
   "codemirror_mode": {
    "name": "ipython",
    "version": 3
   },
   "file_extension": ".py",
   "mimetype": "text/x-python",
   "name": "python",
   "nbconvert_exporter": "python",
   "pygments_lexer": "ipython3",
   "version": "3.8.8"
  }
 },
 "nbformat": 4,
 "nbformat_minor": 4
}
