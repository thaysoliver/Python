{
 "cells": [
  {
   "cell_type": "markdown",
   "metadata": {},
   "source": [
    "# Análise de dados com Pandas e Seaborn\n",
    "\n",
    "O Pandas é uma biblioteca Python de código aberto para análise de dados. Ela fornece ferramentas de análise de dados e estruturas de dados de alta performance e fáceis de usar. Já o Seaborn é uma biblioteca Python de visualização de dados baseada no matplotlib. Ela fornece uma interface de alto nível para desenhar gráficos estatísticos atraentes e informativos. Sua vantagem sobre o Matplotlib puro é que Seaborn fornece padrões de plotagem estatística que podem ser facilmente ativados com apenas alguns comandos.\n",
    "\n",
    "A base de dados utilizada aqui é de churn de clientes de uma empresa de telecomunicações. O churn é uma métrica que indica a taxa de evasão de clientes. Neste caso, o churn é definido como a perda de clientes para a concorrência ou por desinteresse em continuar com o serviço. O objetivo é analisar os dados e identificar os principais fatores que levam um cliente a cancelar o serviço.\n",
    "\n",
    "Temos o seguinte dicionário de dados:\n",
    "\n",
    "- `id_cliente`: identificador único do cliente\n",
    "- `genero`: gênero do cliente\n",
    "- `idoso`: indica se o cliente é idoso (mais de 65 anos) ou não\n",
    "- `tem_parceiro`: indica se o cliente tem parceiro ou não\n",
    "- `tem_dependentes`: indica se o cliente tem dependentes ou não\n",
    "- `meses_na_empresa`: quantidade de meses que o cliente permaneceu na empresa\n",
    "- `servico_telefone`: indica se o cliente tem serviço de telefone ou não\n",
    "- `multiplas_linhas`: indica se o cliente tem múltiplas linhas ou não\n",
    "- `servico_internet`: indica se o cliente tem serviço de internet (DSL ou fibra óptica) ou não\n",
    "- `servico_seguranca`: indica se o cliente tem serviço de segurança online ou não\n",
    "- `servico_backup`: indica se o cliente tem serviço de backup online ou não\n",
    "- `servico_protecao_equipamento`: indica se o cliente tem serviço de proteção do equipamento de conexão ou não\n",
    "- `servico_suporte_tecnico`: indica se o cliente tem serviço de suporte técnico prioritário ou não\n",
    "- `streaming_tv`: indica se o cliente tem serviço de streaming de TV ou não\n",
    "- `streaming_filmes`: indica se o cliente tem serviço de streaming de filmes ou não\n",
    "- `contrato`: tipo de contrato do cliente (mensal, anual ou dois anos)\n",
    "- `fatura_digital`: indica se o cliente recebe a fatura por e-mail ou não\n",
    "- `forma_pagamento`: forma de pagamento do cliente (cheque, boleto, transferência bancária ou cartão de crédito)\n",
    "- `valor_mensal`: valor mensal do serviço contratado\n",
    "- `total_gasto`: valor total gasto pelo cliente\n",
    "- `churn`: indica se o cliente cancelou o serviço no mês anterior ou não\n",
    "\n"
   ]
  },
  {
   "cell_type": "code",
   "execution_count": null,
   "metadata": {
    "ExecuteTime": {
     "end_time": "2023-07-26T00:35:49.947980900Z",
     "start_time": "2023-07-26T00:35:49.842210900Z"
    },
    "tags": []
   },
   "outputs": [],
   "source": [
    "import pandas as pd\n",
    "import seaborn as sns\n",
    "import matplotlib.pyplot as plt\n",
    "\n",
    "ARQUIVO_DADOS = 'churn_clientes.csv'\n",
    "\n",
    "df_churn = pd.read_csv(ARQUIVO_DADOS)\n",
    "df_churn = df_churn.drop(columns='id_cliente', axis=1)\n",
    "\n",
    "\n",
    "colunas_numericas = df_churn.select_dtypes(include='number').columns\n",
    "colunas_categoricas = df_churn.select_dtypes(exclude='number').columns\n",
    "colunas_categoricas = colunas_categoricas.drop('churn')\n",
    "\n",
    "df_churn.head()"
   ]
  },
  {
   "cell_type": "markdown",
   "metadata": {},
   "source": [
    "## Análise das variáveis numéricas\n"
   ]
  },
  {
   "cell_type": "markdown",
   "metadata": {},
   "source": [
    "### Histogramas"
   ]
  },
  {
   "cell_type": "markdown",
   "metadata": {},
   "source": [
    "Um histograma é uma representação gráfica da distribuição de frequências de uma variável. Ele é um gráfico de barras onde cada barra representa uma classe ou intervalo de classe e a área de cada barra é proporcional à frequência da classe. O histograma é uma ferramenta útil para visualizar a forma da distribuição de uma variável. Ele permite identificar a presença de assimetria e a presença de outliers."
   ]
  },
  {
   "cell_type": "code",
   "execution_count": null,
   "metadata": {
    "ExecuteTime": {
     "end_time": "2023-07-26T00:35:50.420640500Z",
     "start_time": "2023-07-26T00:35:49.892527900Z"
    },
    "collapsed": false,
    "jupyter": {
     "outputs_hidden": false
    }
   },
   "outputs": [],
   "source": [
    "df_churn[colunas_numericas].hist(); "
   ]
  },
  {
   "cell_type": "code",
   "execution_count": null,
   "metadata": {
    "ExecuteTime": {
     "end_time": "2023-07-26T00:35:51.016019800Z",
     "start_time": "2023-07-26T00:35:50.419641200Z"
    },
    "collapsed": false,
    "jupyter": {
     "outputs_hidden": false
    }
   },
   "outputs": [],
   "source": [
    "df_churn[colunas_numericas].hist(figsize=(14, 6), layout=(1, 3));  "
   ]
  },
  {
   "cell_type": "code",
   "execution_count": null,
   "metadata": {
    "ExecuteTime": {
     "end_time": "2023-07-26T00:35:51.031198500Z",
     "start_time": "2023-07-26T00:35:51.017019700Z"
    },
    "collapsed": false,
    "jupyter": {
     "outputs_hidden": false
    }
   },
   "outputs": [],
   "source": [
    "df_churn['meses_na_empresa'].value_counts(bins=10).sort_index()"
   ]
  },
  {
   "cell_type": "markdown",
   "metadata": {},
   "source": [
    "Com o Seaborn, podemos plotar um histograma com a opção `hue` para separar os dados de acordo com uma variável categórica. Neste caso, vamos separar os dados de acordo com a variável `contrato`. Dessa forma, podemos comparar a distribuição de cada variável numérica de acordo com o tipo de contrato."
   ]
  },
  {
   "cell_type": "code",
   "execution_count": null,
   "metadata": {
    "ExecuteTime": {
     "end_time": "2023-07-26T00:35:51.325596500Z",
     "start_time": "2023-07-26T00:35:51.031198500Z"
    },
    "collapsed": false,
    "jupyter": {
     "outputs_hidden": false
    }
   },
   "outputs": [],
   "source": [
    "sns.set_theme(style='dark', palette='bright', context='notebook')\n",
    "\n",
    "sns.histplot(x='meses_na_empresa', hue='contrato', data=df_churn); "
   ]
  },
  {
   "cell_type": "code",
   "execution_count": null,
   "metadata": {
    "ExecuteTime": {
     "end_time": "2023-07-26T00:35:51.623822100Z",
     "start_time": "2023-07-26T00:35:51.327605200Z"
    },
    "collapsed": false,
    "jupyter": {
     "outputs_hidden": false
    }
   },
   "outputs": [],
   "source": [
    "sns.histplot(x='meses_na_empresa', hue='contrato', data=df_churn, multiple='stack'); "
   ]
  },
  {
   "cell_type": "code",
   "execution_count": null,
   "metadata": {
    "ExecuteTime": {
     "end_time": "2023-07-26T00:35:51.904409900Z",
     "start_time": "2023-07-26T00:35:51.623822100Z"
    },
    "collapsed": false,
    "jupyter": {
     "outputs_hidden": false
    }
   },
   "outputs": [],
   "source": [
    "h = sns.histplot(x='meses_na_empresa', hue='contrato', data=df_churn, multiple='stack');\n",
    "\n",
    "print(type(h))"
   ]
  },
  {
   "cell_type": "code",
   "execution_count": null,
   "metadata": {
    "ExecuteTime": {
     "end_time": "2023-07-26T00:35:52.571674900Z",
     "start_time": "2023-07-26T00:35:51.907216100Z"
    },
    "collapsed": false,
    "jupyter": {
     "outputs_hidden": false
    }
   },
   "outputs": [],
   "source": [
    "fig, axs = plt.subplots(nrows=1, ncols=3, figsize=(14, 6))\n",
    "\n",
    "for i, coluna in enumerate(colunas_numericas):\n",
    "    sns.histplot(x=coluna, hue='contrato', data=df_churn, multiple='stack', ax=axs[i])\n",
    "\n",
    "plt.show()"
   ]
  },
  {
   "cell_type": "markdown",
   "metadata": {},
   "source": [
    "Como pode ser visto, a maioria dos contratos mensais dura alguns meses, enquanto os contratos de 2 anos tendem a durar mais, com um grande aumento em direção aos maiores valores de permanência neste conjunto de dados. Isso implica que os clientes com um grande comprometimento no início, como um contrato de 2 anos, tendem a permanecer com a empresa por um período mais longo. Os contratos de longo prazo geralmente têm multas contratuais. Portanto, os clientes têm que esperar até o final do contrato para cancelar. Não está claro se é o caso. Uma série temporal seria melhor para estudar isso.\n"
   ]
  }
 ],
 "metadata": {
  "kernelspec": {
   "display_name": "Python 3 (ipykernel)",
   "language": "python",
   "name": "python3"
  },
  "language_info": {
   "codemirror_mode": {
    "name": "ipython",
    "version": 3
   },
   "file_extension": ".py",
   "mimetype": "text/x-python",
   "name": "python",
   "nbconvert_exporter": "python",
   "pygments_lexer": "ipython3",
   "version": "3.10.11"
  }
 },
 "nbformat": 4,
 "nbformat_minor": 4
}
