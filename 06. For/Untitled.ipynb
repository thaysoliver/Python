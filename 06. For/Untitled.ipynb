{
 "cells": [
  {
   "cell_type": "code",
   "execution_count": 3,
   "id": "b1ecdf62",
   "metadata": {},
   "outputs": [],
   "source": [
    "import pandas as pd"
   ]
  },
  {
   "cell_type": "code",
   "execution_count": 4,
   "id": "4e8729c9",
   "metadata": {},
   "outputs": [
    {
     "name": "stdout",
     "output_type": "stream",
     "text": [
      "Requirement already satisfied: pandas-gbq in c:\\users\\thais.odsilva\\anaconda3\\lib\\site-packages (0.17.8)\n",
      "Requirement already satisfied: pandas>=0.24.2 in c:\\users\\thais.odsilva\\anaconda3\\lib\\site-packages (from pandas-gbq) (1.2.4)\n",
      "Requirement already satisfied: db-dtypes<2.0.0,>=0.3.1 in c:\\users\\thais.odsilva\\anaconda3\\lib\\site-packages (from pandas-gbq) (1.0.3)\n",
      "Requirement already satisfied: pydata-google-auth in c:\\users\\thais.odsilva\\anaconda3\\lib\\site-packages (from pandas-gbq) (1.4.0)\n",
      "Requirement already satisfied: setuptools in c:\\users\\thais.odsilva\\anaconda3\\lib\\site-packages (from pandas-gbq) (52.0.0.post20210125)\n",
      "Requirement already satisfied: google-auth-oauthlib>=0.0.1 in c:\\users\\thais.odsilva\\anaconda3\\lib\\site-packages (from pandas-gbq) (0.5.2)\n",
      "Requirement already satisfied: google-cloud-bigquery!=2.4.*,<4.0.0dev,>=1.27.2 in c:\\users\\thais.odsilva\\anaconda3\\lib\\site-packages (from pandas-gbq) (3.3.2)\n",
      "Requirement already satisfied: google-auth>=1.25.0 in c:\\users\\thais.odsilva\\anaconda3\\lib\\site-packages (from pandas-gbq) (2.11.0)\n",
      "Requirement already satisfied: google-api-core!=2.0.*,!=2.1.*,!=2.2.*,!=2.3.0,<3.0.0dev,>=1.31.5 in c:\\users\\thais.odsilva\\anaconda3\\lib\\site-packages (from pandas-gbq) (2.10.0)\n",
      "Requirement already satisfied: pyarrow<10.0dev,>=3.0.0 in c:\\users\\thais.odsilva\\anaconda3\\lib\\site-packages (from pandas-gbq) (9.0.0)\n",
      "Requirement already satisfied: numpy>=1.16.6 in c:\\users\\thais.odsilva\\anaconda3\\lib\\site-packages (from pandas-gbq) (1.20.1)\n",
      "Requirement already satisfied: google-cloud-bigquery-storage<3.0.0dev,>=1.1.0 in c:\\users\\thais.odsilva\\anaconda3\\lib\\site-packages (from pandas-gbq) (2.15.0)\n",
      "Requirement already satisfied: packaging>=17.0 in c:\\users\\thais.odsilva\\anaconda3\\lib\\site-packages (from db-dtypes<2.0.0,>=0.3.1->pandas-gbq) (20.9)\n",
      "Requirement already satisfied: protobuf<5.0.0dev,>=3.20.1 in c:\\users\\thais.odsilva\\anaconda3\\lib\\site-packages (from google-api-core!=2.0.*,!=2.1.*,!=2.2.*,!=2.3.0,<3.0.0dev,>=1.31.5->pandas-gbq) (4.21.6)\n",
      "Requirement already satisfied: googleapis-common-protos<2.0dev,>=1.56.2 in c:\\users\\thais.odsilva\\anaconda3\\lib\\site-packages (from google-api-core!=2.0.*,!=2.1.*,!=2.2.*,!=2.3.0,<3.0.0dev,>=1.31.5->pandas-gbq) (1.56.4)\n",
      "Requirement already satisfied: requests<3.0.0dev,>=2.18.0 in c:\\users\\thais.odsilva\\anaconda3\\lib\\site-packages (from google-api-core!=2.0.*,!=2.1.*,!=2.2.*,!=2.3.0,<3.0.0dev,>=1.31.5->pandas-gbq) (2.25.1)\n",
      "Requirement already satisfied: rsa<5,>=3.1.4 in c:\\users\\thais.odsilva\\anaconda3\\lib\\site-packages (from google-auth>=1.25.0->pandas-gbq) (4.9)\n",
      "Requirement already satisfied: six>=1.9.0 in c:\\users\\thais.odsilva\\anaconda3\\lib\\site-packages (from google-auth>=1.25.0->pandas-gbq) (1.15.0)\n",
      "Requirement already satisfied: pyasn1-modules>=0.2.1 in c:\\users\\thais.odsilva\\anaconda3\\lib\\site-packages (from google-auth>=1.25.0->pandas-gbq) (0.2.8)\n",
      "Requirement already satisfied: cachetools<6.0,>=2.0.0 in c:\\users\\thais.odsilva\\anaconda3\\lib\\site-packages (from google-auth>=1.25.0->pandas-gbq) (5.2.0)\n",
      "Requirement already satisfied: requests-oauthlib>=0.7.0 in c:\\users\\thais.odsilva\\anaconda3\\lib\\site-packages (from google-auth-oauthlib>=0.0.1->pandas-gbq) (1.3.1)\n",
      "Requirement already satisfied: google-cloud-core<3.0.0dev,>=1.4.1 in c:\\users\\thais.odsilva\\anaconda3\\lib\\site-packages (from google-cloud-bigquery!=2.4.*,<4.0.0dev,>=1.27.2->pandas-gbq) (2.3.2)\n",
      "Requirement already satisfied: grpcio<2.0dev,>=1.47.0 in c:\\users\\thais.odsilva\\anaconda3\\lib\\site-packages (from google-cloud-bigquery!=2.4.*,<4.0.0dev,>=1.27.2->pandas-gbq) (1.48.1)\n",
      "Requirement already satisfied: python-dateutil<3.0dev,>=2.7.2 in c:\\users\\thais.odsilva\\anaconda3\\lib\\site-packages (from google-cloud-bigquery!=2.4.*,<4.0.0dev,>=1.27.2->pandas-gbq) (2.8.1)\n",
      "Requirement already satisfied: proto-plus<2.0.0dev,>=1.22.0 in c:\\users\\thais.odsilva\\anaconda3\\lib\\site-packages (from google-cloud-bigquery!=2.4.*,<4.0.0dev,>=1.27.2->pandas-gbq) (1.22.1)\n",
      "Requirement already satisfied: google-resumable-media<3.0dev,>=0.6.0 in c:\\users\\thais.odsilva\\anaconda3\\lib\\site-packages (from google-cloud-bigquery!=2.4.*,<4.0.0dev,>=1.27.2->pandas-gbq) (2.3.3)\n",
      "Requirement already satisfied: grpcio-status<2.0dev,>=1.33.2 in c:\\users\\thais.odsilva\\anaconda3\\lib\\site-packages (from google-api-core!=2.0.*,!=2.1.*,!=2.2.*,!=2.3.0,<3.0.0dev,>=1.31.5->pandas-gbq) (1.48.1)\n",
      "Requirement already satisfied: google-crc32c<2.0dev,>=1.0 in c:\\users\\thais.odsilva\\anaconda3\\lib\\site-packages (from google-resumable-media<3.0dev,>=0.6.0->google-cloud-bigquery!=2.4.*,<4.0.0dev,>=1.27.2->pandas-gbq) (1.5.0)\n",
      "Requirement already satisfied: pyparsing>=2.0.2 in c:\\users\\thais.odsilva\\anaconda3\\lib\\site-packages (from packaging>=17.0->db-dtypes<2.0.0,>=0.3.1->pandas-gbq) (2.4.7)\n",
      "Requirement already satisfied: pytz>=2017.3 in c:\\users\\thais.odsilva\\anaconda3\\lib\\site-packages (from pandas>=0.24.2->pandas-gbq) (2021.1)\n",
      "Requirement already satisfied: pyasn1<0.5.0,>=0.4.6 in c:\\users\\thais.odsilva\\anaconda3\\lib\\site-packages (from pyasn1-modules>=0.2.1->google-auth>=1.25.0->pandas-gbq) (0.4.8)\n",
      "Requirement already satisfied: idna<3,>=2.5 in c:\\users\\thais.odsilva\\anaconda3\\lib\\site-packages (from requests<3.0.0dev,>=2.18.0->google-api-core!=2.0.*,!=2.1.*,!=2.2.*,!=2.3.0,<3.0.0dev,>=1.31.5->pandas-gbq) (2.10)\n",
      "Requirement already satisfied: certifi>=2017.4.17 in c:\\users\\thais.odsilva\\anaconda3\\lib\\site-packages (from requests<3.0.0dev,>=2.18.0->google-api-core!=2.0.*,!=2.1.*,!=2.2.*,!=2.3.0,<3.0.0dev,>=1.31.5->pandas-gbq) (2020.12.5)\n",
      "Requirement already satisfied: chardet<5,>=3.0.2 in c:\\users\\thais.odsilva\\anaconda3\\lib\\site-packages (from requests<3.0.0dev,>=2.18.0->google-api-core!=2.0.*,!=2.1.*,!=2.2.*,!=2.3.0,<3.0.0dev,>=1.31.5->pandas-gbq) (4.0.0)\n",
      "Requirement already satisfied: urllib3<1.27,>=1.21.1 in c:\\users\\thais.odsilva\\anaconda3\\lib\\site-packages (from requests<3.0.0dev,>=2.18.0->google-api-core!=2.0.*,!=2.1.*,!=2.2.*,!=2.3.0,<3.0.0dev,>=1.31.5->pandas-gbq) (1.26.4)\n",
      "Requirement already satisfied: oauthlib>=3.0.0 in c:\\users\\thais.odsilva\\anaconda3\\lib\\site-packages (from requests-oauthlib>=0.7.0->google-auth-oauthlib>=0.0.1->pandas-gbq) (3.2.1)\n"
     ]
    }
   ],
   "source": [
    "!pip install pandas-gbq"
   ]
  },
  {
   "cell_type": "code",
   "execution_count": 8,
   "id": "c41d2fc5",
   "metadata": {},
   "outputs": [],
   "source": [
    "query = '''\n",
    "  select \n",
    "    * \n",
    "  from `b2w-bee-u-pyplan-plan-lets.dimensoes.UF_CD`\n",
    "'''"
   ]
  },
  {
   "cell_type": "code",
   "execution_count": 11,
   "id": "ec9ca8d3",
   "metadata": {},
   "outputs": [
    {
     "ename": "ValueError",
     "evalue": "Could not determine project ID and one was not supplied.",
     "output_type": "error",
     "traceback": [
      "\u001b[1;31m---------------------------------------------------------------------------\u001b[0m",
      "\u001b[1;31mValueError\u001b[0m                                Traceback (most recent call last)",
      "\u001b[1;32m<ipython-input-11-d23c031174fe>\u001b[0m in \u001b[0;36m<module>\u001b[1;34m\u001b[0m\n\u001b[1;32m----> 1\u001b[1;33m \u001b[0mdf\u001b[0m \u001b[1;33m=\u001b[0m \u001b[0mpd\u001b[0m\u001b[1;33m.\u001b[0m\u001b[0mread_gbq\u001b[0m\u001b[1;33m(\u001b[0m\u001b[0mquery\u001b[0m\u001b[1;33m)\u001b[0m\u001b[1;33m\u001b[0m\u001b[1;33m\u001b[0m\u001b[0m\n\u001b[0m",
      "\u001b[1;32m~\\Anaconda3\\lib\\site-packages\\pandas\\io\\gbq.py\u001b[0m in \u001b[0;36mread_gbq\u001b[1;34m(query, project_id, index_col, col_order, reauth, auth_local_webserver, dialect, location, configuration, credentials, use_bqstorage_api, max_results, progress_bar_type)\u001b[0m\n\u001b[0;32m    180\u001b[0m     \u001b[1;31m# END: new kwargs\u001b[0m\u001b[1;33m\u001b[0m\u001b[1;33m\u001b[0m\u001b[1;33m\u001b[0m\u001b[0m\n\u001b[0;32m    181\u001b[0m \u001b[1;33m\u001b[0m\u001b[0m\n\u001b[1;32m--> 182\u001b[1;33m     return pandas_gbq.read_gbq(\n\u001b[0m\u001b[0;32m    183\u001b[0m         \u001b[0mquery\u001b[0m\u001b[1;33m,\u001b[0m\u001b[1;33m\u001b[0m\u001b[1;33m\u001b[0m\u001b[0m\n\u001b[0;32m    184\u001b[0m         \u001b[0mproject_id\u001b[0m\u001b[1;33m=\u001b[0m\u001b[0mproject_id\u001b[0m\u001b[1;33m,\u001b[0m\u001b[1;33m\u001b[0m\u001b[1;33m\u001b[0m\u001b[0m\n",
      "\u001b[1;32m~\\Anaconda3\\lib\\site-packages\\pandas_gbq\\gbq.py\u001b[0m in \u001b[0;36mread_gbq\u001b[1;34m(query_or_table, project_id, index_col, col_order, reauth, auth_local_webserver, dialect, location, configuration, credentials, use_bqstorage_api, max_results, verbose, private_key, progress_bar_type, dtypes)\u001b[0m\n\u001b[0;32m    907\u001b[0m         \u001b[0mquery_or_table\u001b[0m \u001b[1;33m=\u001b[0m \u001b[0mconfiguration\u001b[0m\u001b[1;33m[\u001b[0m\u001b[1;34m\"query\"\u001b[0m\u001b[1;33m]\u001b[0m\u001b[1;33m.\u001b[0m\u001b[0mpop\u001b[0m\u001b[1;33m(\u001b[0m\u001b[1;34m\"query\"\u001b[0m\u001b[1;33m)\u001b[0m\u001b[1;33m\u001b[0m\u001b[1;33m\u001b[0m\u001b[0m\n\u001b[0;32m    908\u001b[0m \u001b[1;33m\u001b[0m\u001b[0m\n\u001b[1;32m--> 909\u001b[1;33m     connector = GbqConnector(\n\u001b[0m\u001b[0;32m    910\u001b[0m         \u001b[0mproject_id\u001b[0m\u001b[1;33m,\u001b[0m\u001b[1;33m\u001b[0m\u001b[1;33m\u001b[0m\u001b[0m\n\u001b[0;32m    911\u001b[0m         \u001b[0mreauth\u001b[0m\u001b[1;33m=\u001b[0m\u001b[0mreauth\u001b[0m\u001b[1;33m,\u001b[0m\u001b[1;33m\u001b[0m\u001b[1;33m\u001b[0m\u001b[0m\n",
      "\u001b[1;32m~\\Anaconda3\\lib\\site-packages\\pandas_gbq\\gbq.py\u001b[0m in \u001b[0;36m__init__\u001b[1;34m(self, project_id, reauth, private_key, auth_local_webserver, dialect, location, credentials, use_bqstorage_api)\u001b[0m\n\u001b[0;32m    326\u001b[0m \u001b[1;33m\u001b[0m\u001b[0m\n\u001b[0;32m    327\u001b[0m         \u001b[1;32mif\u001b[0m \u001b[0mself\u001b[0m\u001b[1;33m.\u001b[0m\u001b[0mproject_id\u001b[0m \u001b[1;32mis\u001b[0m \u001b[1;32mNone\u001b[0m\u001b[1;33m:\u001b[0m\u001b[1;33m\u001b[0m\u001b[1;33m\u001b[0m\u001b[0m\n\u001b[1;32m--> 328\u001b[1;33m             \u001b[1;32mraise\u001b[0m \u001b[0mValueError\u001b[0m\u001b[1;33m(\u001b[0m\u001b[1;34m\"Could not determine project ID and one was not supplied.\"\u001b[0m\u001b[1;33m)\u001b[0m\u001b[1;33m\u001b[0m\u001b[1;33m\u001b[0m\u001b[0m\n\u001b[0m\u001b[0;32m    329\u001b[0m \u001b[1;33m\u001b[0m\u001b[0m\n\u001b[0;32m    330\u001b[0m         \u001b[1;31m# Cache the credentials if they haven't been set yet.\u001b[0m\u001b[1;33m\u001b[0m\u001b[1;33m\u001b[0m\u001b[1;33m\u001b[0m\u001b[0m\n",
      "\u001b[1;31mValueError\u001b[0m: Could not determine project ID and one was not supplied."
     ]
    }
   ],
   "source": [
    "df = pd.read_gbq(query)"
   ]
  }
 ],
 "metadata": {
  "kernelspec": {
   "display_name": "Python 3",
   "language": "python",
   "name": "python3"
  },
  "language_info": {
   "codemirror_mode": {
    "name": "ipython",
    "version": 3
   },
   "file_extension": ".py",
   "mimetype": "text/x-python",
   "name": "python",
   "nbconvert_exporter": "python",
   "pygments_lexer": "ipython3",
   "version": "3.8.8"
  }
 },
 "nbformat": 4,
 "nbformat_minor": 5
}
