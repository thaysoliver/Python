{
 "cells": [
  {
   "cell_type": "markdown",
   "metadata": {},
   "source": [
    "# Alterações de Variáveis\n",
    "\n",
    "Estrutura:\n",
    "\n",
    "- variavel = variavel + outro_valor\n",
    "\n",
    "ou então\n",
    "\n",
    "- variavel += outro_valor"
   ]
  },
  {
   "cell_type": "markdown",
   "metadata": {},
   "source": [
    "Exemplo: vamos adicionar às variáveis criadas o Produto IPad, 500 vendas"
   ]
  },
  {
   "cell_type": "code",
   "execution_count": 9,
   "metadata": {},
   "outputs": [
    {
     "name": "stdout",
     "output_type": "stream",
     "text": [
      "['mac', 'iphone', 'ipad']\n",
      "800\n",
      "Esse mês vendemos um total de 800 produtos, sendo:\n",
      "100 unidades de mac\n",
      "200 unidades de iphone\n",
      " 500 unidades de Ipad\n"
     ]
    }
   ],
   "source": [
    "faturamento = 3000\n",
    "faturamento = faturamento + 1000\n",
    "\n",
    "lista = ['mac', 'iphone']\n",
    "vendas = [100, 200]\n",
    "lista += ['ipad']\n",
    "print(lista)\n",
    "#adicionando IPad na lista\n",
    "\n",
    "\n",
    "\n",
    "\n",
    "soma_vendas = 300\n",
    "#adicionando na soma a quantidade de IPad\n",
    "soma_vendas +=  500\n",
    "print(soma_vendas)\n",
    "\n",
    "\n",
    "\n",
    "\n",
    "email = 'Esse mês vendemos um total de {} produtos, sendo:\\n{} unidades de {}\\n{} unidades de {}'.format(soma_vendas, vendas[0], lista[0], vendas[1], lista[1])\n",
    "#adicionando no fim do texto o Ipad\n",
    "\n",
    "email = email+ '\\n {} unidades de Ipad' .format(500)\n",
    "\n",
    "print(email)"
   ]
  },
  {
   "cell_type": "code",
   "execution_count": null,
   "metadata": {},
   "outputs": [],
   "source": []
  }
 ],
 "metadata": {
  "kernelspec": {
   "display_name": "Python 3",
   "language": "python",
   "name": "python3"
  },
  "language_info": {
   "codemirror_mode": {
    "name": "ipython",
    "version": 3
   },
   "file_extension": ".py",
   "mimetype": "text/x-python",
   "name": "python",
   "nbconvert_exporter": "python",
   "pygments_lexer": "ipython3",
   "version": "3.8.8"
  }
 },
 "nbformat": 4,
 "nbformat_minor": 4
}
