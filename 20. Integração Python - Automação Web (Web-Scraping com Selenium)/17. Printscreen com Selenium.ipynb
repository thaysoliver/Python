{
 "cells": [
  {
   "cell_type": "markdown",
   "id": "7e990faa",
   "metadata": {
    "id": "7e990faa"
   },
   "source": [
    "### Abrindo o navegador"
   ]
  },
  {
   "cell_type": "code",
   "execution_count": 1,
   "id": "fe458edf",
   "metadata": {
    "id": "fe458edf",
    "outputId": "7eeb8442-b95a-4431-9eb8-120fc194128a"
   },
   "outputs": [],
   "source": [
    "from selenium import webdriver\n",
    "from selenium.webdriver.chrome.service import Service\n",
    "from webdriver_manager.chrome import ChromeDriverManager\n",
    "from selenium.webdriver.common.by import By\n",
    "\n",
    "servico = Service(ChromeDriverManager().install())\n",
    "navegador = webdriver.Chrome(service=servico)"
   ]
  },
  {
   "cell_type": "code",
   "execution_count": 2,
   "id": "7f376de9",
   "metadata": {
    "id": "7f376de9"
   },
   "outputs": [],
   "source": [
    "import os\n",
    "\n",
    "caminho = os.getcwd()\n",
    "arquivo = caminho + r\"\\Pagina Hashtag.html\"\n",
    "navegador.get(arquivo)"
   ]
  },
  {
   "cell_type": "markdown",
   "id": "b4f29156",
   "metadata": {
    "id": "b4f29156"
   },
   "source": [
    "### Tirando print da tela inteira"
   ]
  },
  {
   "cell_type": "code",
   "execution_count": 3,
   "id": "0f9ded01",
   "metadata": {
    "id": "0f9ded01",
    "outputId": "b1373887-0884-4970-edb1-166b66850e98"
   },
   "outputs": [
    {
     "data": {
      "text/plain": [
       "True"
      ]
     },
     "execution_count": 3,
     "metadata": {},
     "output_type": "execute_result"
    }
   ],
   "source": [
    "navegador.save_screenshot(\"print.png\")"
   ]
  },
  {
   "cell_type": "markdown",
   "id": "034f941a",
   "metadata": {
    "id": "034f941a"
   },
   "source": [
    "### Tirando print de parte da tela"
   ]
  },
  {
   "cell_type": "code",
   "execution_count": 4,
   "id": "f671d684",
   "metadata": {
    "id": "f671d684"
   },
   "outputs": [],
   "source": [
    "from PIL import Image\n",
    "\n",
    "imagem = Image.open(\"print.png\")\n",
    "\n",
    "elemento = navegador.find_element(By.ID, 'header')\n",
    "posicao = elemento.location\n",
    "tamanho = elemento.size\n",
    "\n",
    "x_inicial = posicao[\"x\"] * 2.5\n",
    "y_inicial = posicao[\"y\"] * 2.5\n",
    "x_final = (x_inicial + tamanho[\"width\"]) * 2.5\n",
    "y_final = (y_inicial + tamanho[\"height\"]) * 2.5\n",
    "\n",
    "imagem = imagem.crop((x_inicial, y_inicial, x_final, y_final))\n",
    "imagem.save(\"print_pedaco.png\")"
   ]
  }
 ],
 "metadata": {
  "colab": {
   "provenance": []
  },
  "kernelspec": {
   "display_name": "Python 3 (ipykernel)",
   "language": "python",
   "name": "python3"
  },
  "language_info": {
   "codemirror_mode": {
    "name": "ipython",
    "version": 3
   },
   "file_extension": ".py",
   "mimetype": "text/x-python",
   "name": "python",
   "nbconvert_exporter": "python",
   "pygments_lexer": "ipython3",
   "version": "3.10.9"
  }
 },
 "nbformat": 4,
 "nbformat_minor": 5
}
