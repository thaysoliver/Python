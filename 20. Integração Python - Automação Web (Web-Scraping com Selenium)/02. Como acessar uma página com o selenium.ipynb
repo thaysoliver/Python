{
 "cells": [
  {
   "cell_type": "code",
   "execution_count": 4,
   "id": "84f6a1ec",
   "metadata": {
    "id": "84f6a1ec"
   },
   "outputs": [],
   "source": [
    "from selenium import webdriver\n",
    "from selenium.webdriver.chrome.service import Service\n",
    "from webdriver_manager.chrome import ChromeDriverManager\n",
    "\n",
    "servico = Service(ChromeDriverManager().install())\n",
    "navegador = webdriver.Chrome(service=servico)"
   ]
  },
  {
   "cell_type": "code",
   "execution_count": 2,
   "id": "e6caa5a0",
   "metadata": {},
   "outputs": [],
   "source": [
    "# navegador.get('https://www.hashtagtreinamentos.com/')"
   ]
  },
  {
   "cell_type": "code",
   "execution_count": 7,
   "id": "c43df1d0",
   "metadata": {
    "id": "c43df1d0"
   },
   "outputs": [],
   "source": [
    "navegador.get(r\"C:\\Users\\4960023091\\OneDrive - Via Varejo S.A\\Python Impressionador\\20. Integração Python - Automação Web (Web-Scraping com Selenium)\\Pagina Hashtag.html\")"
   ]
  },
  {
   "cell_type": "code",
   "execution_count": null,
   "id": "6738d66c",
   "metadata": {
    "id": "6738d66c"
   },
   "outputs": [],
   "source": [
    "pip install webdriver-manager"
   ]
  },
  {
   "cell_type": "code",
   "execution_count": null,
   "id": "YjxaqVaThRIu",
   "metadata": {
    "id": "YjxaqVaThRIu"
   },
   "outputs": [],
   "source": [
    "pip install selenium"
   ]
  },
  {
   "cell_type": "code",
   "execution_count": null,
   "id": "_5oET0u9hoqH",
   "metadata": {
    "id": "_5oET0u9hoqH"
   },
   "outputs": [],
   "source": []
  }
 ],
 "metadata": {
  "colab": {
   "provenance": []
  },
  "kernelspec": {
   "display_name": "Python 3 (ipykernel)",
   "language": "python",
   "name": "python3"
  },
  "language_info": {
   "codemirror_mode": {
    "name": "ipython",
    "version": 3
   },
   "file_extension": ".py",
   "mimetype": "text/x-python",
   "name": "python",
   "nbconvert_exporter": "python",
   "pygments_lexer": "ipython3",
   "version": "3.10.9"
  }
 },
 "nbformat": 4,
 "nbformat_minor": 5
}
