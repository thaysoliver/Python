{
 "cells": [
  {
   "cell_type": "code",
   "execution_count": 1,
   "id": "e5668056",
   "metadata": {},
   "outputs": [],
   "source": [
    "# criar o navegador\n",
    "from selenium import webdriver\n",
    "from selenium.webdriver.chrome.service import Service\n",
    "from webdriver_manager.chrome import ChromeDriverManager\n",
    "from selenium.webdriver.common.by import By\n",
    "\n",
    "servico = Service(ChromeDriverManager().install())\n",
    "navegador = webdriver.Chrome(service=servico)"
   ]
  },
  {
   "cell_type": "code",
   "execution_count": 4,
   "id": "0c0ecdda",
   "metadata": {},
   "outputs": [],
   "source": [
    "# na marra, colocando um time.sleep fixo\n",
    "import time\n",
    "\n",
    "navegador.get(\"https://www.hashtagtreinamentos.com/\")\n",
    "time.sleep(15)\n",
    "navegador.find_element(By.CLASS_NAME, 'eicon-close').click()"
   ]
  },
  {
   "cell_type": "code",
   "execution_count": 6,
   "id": "491d73e1",
   "metadata": {},
   "outputs": [],
   "source": [
    "# loop\n",
    "navegador.get(\"https://www.hashtagtreinamentos.com/\")\n",
    "\n",
    "while len(navegador.find_elements(By.CLASS_NAME, 'eicon-close')) < 1:\n",
    "    time.sleep(1)\n",
    "time.sleep(1) # garantia\n",
    "\n",
    "navegador.find_element(By.CLASS_NAME, 'eicon-close').click()\n",
    "    "
   ]
  },
  {
   "cell_type": "code",
   "execution_count": 8,
   "id": "fff0e81c",
   "metadata": {},
   "outputs": [],
   "source": [
    "# EC WebDriverWait\n",
    "from selenium.webdriver.support.ui import WebDriverWait\n",
    "from selenium.webdriver.support import expected_conditions as EC\n",
    "\n",
    "navegador.get(\"https://www.hashtagtreinamentos.com/\")\n",
    "\n",
    "elemento = WebDriverWait(navegador, 20).until(EC.presence_of_element_located((By.CLASS_NAME, 'eicon-close')))\n",
    "time.sleep(1) # garantia\n",
    "\n",
    "elemento.click()"
   ]
  },
  {
   "cell_type": "code",
   "execution_count": null,
   "id": "497a4f2c",
   "metadata": {},
   "outputs": [],
   "source": []
  }
 ],
 "metadata": {
  "kernelspec": {
   "display_name": "Python 3 (ipykernel)",
   "language": "python",
   "name": "python3"
  },
  "language_info": {
   "codemirror_mode": {
    "name": "ipython",
    "version": 3
   },
   "file_extension": ".py",
   "mimetype": "text/x-python",
   "name": "python",
   "nbconvert_exporter": "python",
   "pygments_lexer": "ipython3",
   "version": "3.10.9"
  }
 },
 "nbformat": 4,
 "nbformat_minor": 5
}
