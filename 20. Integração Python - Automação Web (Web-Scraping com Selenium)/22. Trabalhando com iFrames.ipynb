{
 "cells": [
  {
   "cell_type": "markdown",
   "id": "34ad00aa",
   "metadata": {},
   "source": [
    "### iFrames - Atualização\n",
    "\n",
    "- Às vezes, você vai fazer tudo certo no Selenium e aparentemente não vai funcionar o seu código\n",
    "\n",
    "- Possivelmente o elemento que você está tentando selecionar está dentro de um iframe"
   ]
  },
  {
   "cell_type": "code",
   "execution_count": 2,
   "id": "7bd311e0",
   "metadata": {},
   "outputs": [
    {
     "name": "stderr",
     "output_type": "stream",
     "text": [
      "\n",
      "\n",
      "====== WebDriver manager ======\n",
      "Current google-chrome version is 104.0.5112\n",
      "Get LATEST chromedriver version for 104.0.5112 google-chrome\n",
      "Trying to download new driver from https://chromedriver.storage.googleapis.com/104.0.5112.79/chromedriver_win32.zip\n",
      "Driver has been saved in cache [C:\\Users\\joaol\\.wdm\\drivers\\chromedriver\\win32\\104.0.5112.79]\n"
     ]
    }
   ],
   "source": [
    "# QUeremos pegar o pontos por jogo mandante da 1ª linha da tabela\n",
    "\n",
    "link = \"https://pbdatatrader.com.br/jogosdodia\"\n",
    "\n",
    "# Normalmente:\n",
    "from selenium import webdriver\n",
    "from selenium.webdriver.chrome.service import Service\n",
    "from webdriver_manager.chrome import ChromeDriverManager\n",
    "from selenium.webdriver.common.by import By\n",
    "\n",
    "servico = Service(ChromeDriverManager().install())\n",
    "navegador = webdriver.Chrome(service=servico)"
   ]
  },
  {
   "cell_type": "code",
   "execution_count": 15,
   "id": "320408b6",
   "metadata": {},
   "outputs": [
    {
     "name": "stdout",
     "output_type": "stream",
     "text": [
      "1,36\n"
     ]
    }
   ],
   "source": [
    "import time\n",
    "navegador.get(link)\n",
    "time.sleep(10)\n",
    "\n",
    "iframe = navegador.find_element(By.TAG_NAME, 'iframe')\n",
    "navegador.switch_to.frame(iframe)\n",
    "\n",
    "iframe = navegador.find_element(By.TAG_NAME, 'iframe')\n",
    "navegador.switch_to.frame(iframe)\n",
    "\n",
    "valor_xpath = '//*[@id=\"pvExplorationHost\"]/div/div/exploration/div/explore-canvas/div/div[2]/div/div[2]/div[2]/visual-container-repeat/visual-container[19]/transform/div/div[2]/div/visual-modern/div/div/div[2]/div[1]/div[4]/div/div[1]/div[8]'\n",
    "texto = navegador.find_element(By.XPATH, valor_xpath).text\n",
    "print(texto)"
   ]
  },
  {
   "cell_type": "code",
   "execution_count": null,
   "id": "195be655",
   "metadata": {},
   "outputs": [],
   "source": []
  },
  {
   "cell_type": "code",
   "execution_count": null,
   "id": "0ec5cc1d",
   "metadata": {},
   "outputs": [],
   "source": []
  }
 ],
 "metadata": {
  "kernelspec": {
   "display_name": "Python 3 (ipykernel)",
   "language": "python",
   "name": "python3"
  },
  "language_info": {
   "codemirror_mode": {
    "name": "ipython",
    "version": 3
   },
   "file_extension": ".py",
   "mimetype": "text/x-python",
   "name": "python",
   "nbconvert_exporter": "python",
   "pygments_lexer": "ipython3",
   "version": "3.9.7"
  }
 },
 "nbformat": 4,
 "nbformat_minor": 5
}
