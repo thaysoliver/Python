{
 "cells": [
  {
   "cell_type": "markdown",
   "id": "367cd714",
   "metadata": {},
   "source": [
    "### Documentação Selenium:\n",
    "\n",
    "- https://selenium-python.readthedocs.io/locating-elements.html"
   ]
  },
  {
   "cell_type": "code",
   "execution_count": 1,
   "id": "4e28f9f7",
   "metadata": {},
   "outputs": [],
   "source": [
    "from selenium import webdriver\n",
    "from selenium.webdriver.chrome.service import Service\n",
    "from webdriver_manager.chrome import ChromeDriverManager\n",
    "from selenium.webdriver.common.by import By\n",
    "\n",
    "servico = Service(ChromeDriverManager().install())\n",
    "navegador = webdriver.Chrome(service=servico)"
   ]
  },
  {
   "cell_type": "code",
   "execution_count": 6,
   "id": "59c8398d",
   "metadata": {},
   "outputs": [],
   "source": [
    "import os\n",
    "\n",
    "caminho = os.getcwd()\n",
    "arquivo = caminho + r\"\\Pagina Hashtag.html\"\n",
    "navegador.get(arquivo)"
   ]
  },
  {
   "cell_type": "markdown",
   "id": "7d964ce5",
   "metadata": {},
   "source": [
    "#### Selecionar vários elementos de uma vez\n",
    "\n",
    "- Vamos selecionar pelo find_elements\n",
    "- Vamos clicar no item Blog do menu"
   ]
  },
  {
   "cell_type": "code",
   "execution_count": 8,
   "id": "d99bbc29",
   "metadata": {
    "scrolled": true
   },
   "outputs": [
    {
     "name": "stdout",
     "output_type": "stream",
     "text": [
      "[<selenium.webdriver.remote.webelement.WebElement (session=\"e286e352c59d15bade40ae79171533fc\", element=\"9FF189D1888C8B6DB3565C3994EB4812_element_2\")>, <selenium.webdriver.remote.webelement.WebElement (session=\"e286e352c59d15bade40ae79171533fc\", element=\"9FF189D1888C8B6DB3565C3994EB4812_element_3\")>, <selenium.webdriver.remote.webelement.WebElement (session=\"e286e352c59d15bade40ae79171533fc\", element=\"9FF189D1888C8B6DB3565C3994EB4812_element_4\")>, <selenium.webdriver.remote.webelement.WebElement (session=\"e286e352c59d15bade40ae79171533fc\", element=\"9FF189D1888C8B6DB3565C3994EB4812_element_5\")>, <selenium.webdriver.remote.webelement.WebElement (session=\"e286e352c59d15bade40ae79171533fc\", element=\"9FF189D1888C8B6DB3565C3994EB4812_element_6\")>, <selenium.webdriver.remote.webelement.WebElement (session=\"e286e352c59d15bade40ae79171533fc\", element=\"9FF189D1888C8B6DB3565C3994EB4812_element_7\")>, <selenium.webdriver.remote.webelement.WebElement (session=\"e286e352c59d15bade40ae79171533fc\", element=\"9FF189D1888C8B6DB3565C3994EB4812_element_8\")>, <selenium.webdriver.remote.webelement.WebElement (session=\"e286e352c59d15bade40ae79171533fc\", element=\"9FF189D1888C8B6DB3565C3994EB4812_element_9\")>, <selenium.webdriver.remote.webelement.WebElement (session=\"e286e352c59d15bade40ae79171533fc\", element=\"9FF189D1888C8B6DB3565C3994EB4812_element_10\")>, <selenium.webdriver.remote.webelement.WebElement (session=\"e286e352c59d15bade40ae79171533fc\", element=\"9FF189D1888C8B6DB3565C3994EB4812_element_11\")>, <selenium.webdriver.remote.webelement.WebElement (session=\"e286e352c59d15bade40ae79171533fc\", element=\"9FF189D1888C8B6DB3565C3994EB4812_element_12\")>, <selenium.webdriver.remote.webelement.WebElement (session=\"e286e352c59d15bade40ae79171533fc\", element=\"9FF189D1888C8B6DB3565C3994EB4812_element_13\")>, <selenium.webdriver.remote.webelement.WebElement (session=\"e286e352c59d15bade40ae79171533fc\", element=\"9FF189D1888C8B6DB3565C3994EB4812_element_14\")>, <selenium.webdriver.remote.webelement.WebElement (session=\"e286e352c59d15bade40ae79171533fc\", element=\"9FF189D1888C8B6DB3565C3994EB4812_element_15\")>]\n"
     ]
    }
   ],
   "source": [
    "lista_elementos = navegador.find_elements(By.CLASS_NAME, 'nav-link')\n",
    "for elemento in lista_elementos:\n",
    "    if \"blog\" in elemento.text.lower():\n",
    "        elemento.click()\n",
    "        break"
   ]
  },
  {
   "cell_type": "code",
   "execution_count": 10,
   "id": "6d691135",
   "metadata": {},
   "outputs": [],
   "source": []
  }
 ],
 "metadata": {
  "kernelspec": {
   "display_name": "Python 3 (ipykernel)",
   "language": "python",
   "name": "python3"
  },
  "language_info": {
   "codemirror_mode": {
    "name": "ipython",
    "version": 3
   },
   "file_extension": ".py",
   "mimetype": "text/x-python",
   "name": "python",
   "nbconvert_exporter": "python",
   "pygments_lexer": "ipython3",
   "version": "3.10.9"
  }
 },
 "nbformat": 4,
 "nbformat_minor": 5
}
