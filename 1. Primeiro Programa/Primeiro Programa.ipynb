{
 "cells": [
  {
   "cell_type": "markdown",
   "id": "f3afc775",
   "metadata": {},
   "source": [
    "Meu primeiro Programa"
   ]
  },
  {
   "cell_type": "code",
   "execution_count": 1,
   "id": "a5698d25",
   "metadata": {
    "scrolled": true
   },
   "outputs": [
    {
     "name": "stdout",
     "output_type": "stream",
     "text": [
      "0.6666666666666666\n"
     ]
    }
   ],
   "source": [
    "print(2 / 3)"
   ]
  },
  {
   "cell_type": "code",
   "execution_count": 3,
   "id": "89cc7e84",
   "metadata": {},
   "outputs": [
    {
     "name": "stdout",
     "output_type": "stream",
     "text": [
      "8\n"
     ]
    }
   ],
   "source": [
    "print(2**3)"
   ]
  },
  {
   "cell_type": "code",
   "execution_count": 3,
   "id": "7fd36936",
   "metadata": {},
   "outputs": [
    {
     "name": "stdout",
     "output_type": "stream",
     "text": [
      "11.0\n"
     ]
    }
   ],
   "source": [
    "print(2.2 * 5)"
   ]
  },
  {
   "cell_type": "code",
   "execution_count": 4,
   "id": "83adeb5d",
   "metadata": {},
   "outputs": [
    {
     "name": "stdout",
     "output_type": "stream",
     "text": [
      "1\n"
     ]
    }
   ],
   "source": [
    "print(7%3)"
   ]
  },
  {
   "cell_type": "code",
   "execution_count": 5,
   "id": "62e24713",
   "metadata": {},
   "outputs": [
    {
     "name": "stdout",
     "output_type": "stream",
     "text": [
      "Thais\n",
      "1810\n"
     ]
    }
   ],
   "source": [
    "qtde_vendas = 1800\n",
    "nome = 'Thais'\n",
    "\n",
    "print(nome)\n",
    "print(10 + qtde_vendas)\n"
   ]
  },
  {
   "cell_type": "markdown",
   "id": "c067f4e8",
   "metadata": {},
   "source": [
    "Pegar informações do Usuário"
   ]
  },
  {
   "cell_type": "code",
   "execution_count": null,
   "id": "19241e5d",
   "metadata": {},
   "outputs": [],
   "source": [
    "cpf = input('Digite seu cpf (apenas números, sem pontos e traços)')\n",
    "print('O cpf do cliente é ' + cpf)"
   ]
  },
  {
   "cell_type": "code",
   "execution_count": null,
   "id": "62ad0c2d",
   "metadata": {},
   "outputs": [],
   "source": []
  }
 ],
 "metadata": {
  "kernelspec": {
   "display_name": "Python 3",
   "language": "python",
   "name": "python3"
  },
  "language_info": {
   "codemirror_mode": {
    "name": "ipython",
    "version": 3
   },
   "file_extension": ".py",
   "mimetype": "text/x-python",
   "name": "python",
   "nbconvert_exporter": "python",
   "pygments_lexer": "ipython3",
   "version": "3.8.8"
  }
 },
 "nbformat": 4,
 "nbformat_minor": 5
}
