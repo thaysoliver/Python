{
 "cells": [
  {
   "cell_type": "markdown",
   "metadata": {},
   "source": [
    "# Estrutura while:\n",
    "\n",
    "### Funcionamento:\n",
    "\n",
    "Usamos o while quando queremos repetir um código de forma indeterminada até uma condição se tornar verdadeira/falsa.\n",
    "\n",
    "A lógica é: enquanto a condição for verdadeira, o while executa o código. Assim que ela terminar de ser verdadeira, o código \"sai\" do while."
   ]
  },
  {
   "cell_type": "raw",
   "metadata": {},
   "source": [
    "while condicao:\n",
    "    repete esse código"
   ]
  },
  {
   "cell_type": "markdown",
   "metadata": {},
   "source": [
    "- Exemplo: Quando criamos automações na internet\n",
    "- Exemplo2: Crie um programa que funcione como o registro de vendas de uma empresa.\n",
    "\n",
    "Nele, a pessoa deve inserir o nome do produto e o produto deve ser adicionado na lista de venda. Enquanto o usuário não encerrar o programa, significa que ele está registrando novos produtos, então o programa deve permitir e entrada de quantos produtos o usuário quiser."
   ]
  },
  {
   "cell_type": "code",
   "execution_count": 15,
   "metadata": {},
   "outputs": [
    {
     "name": "stdout",
     "output_type": "stream",
     "text": [
      "Registre um produto. Para cancelar o registro de um novo produto, basta apertar enter com a caixa vazia arroz\n",
      "Registre um produto. Para cancelar o registro de um novo produto, basta apertar enter com a caixa vazia feijão\n",
      "Registre um produto. Para cancelar o registro de um novo produto, basta apertar enter com a caixa vazia macarrão\n",
      "Registre um produto. Para cancelar o registro de um novo produto, basta apertar enter com a caixa vazia vagem\n",
      "Registre um produto. Para cancelar o registro de um novo produto, basta apertar enter com a caixa vazia cenoujra\n",
      "Registre um produto. Para cancelar o registro de um novo produto, basta apertar enter com a caixa vazia batat\n",
      "Registre um produto. Para cancelar o registro de um novo produto, basta apertar enter com a caixa vazia beringela\n",
      "Registre um produto. Para cancelar o registro de um novo produto, basta apertar enter com a caixa vazia abobora\n",
      "Registre um produto. Para cancelar o registro de um novo produto, basta apertar enter com a caixa vazia \n",
      "Registro Finalizado. As vendas cadastradas foram: ['arroz', 'feijão', 'macarrão', 'vagem', 'cenoujra', 'batat', 'beringela', 'abobora'] \n"
     ]
    }
   ],
   "source": [
    "venda = input('Registre um produto. Para cancelar o registro de um novo produto, basta apertar enter com a caixa vazia ')\n",
    "vendas = []\n",
    "#crie aqui o programa\n",
    "\n",
    "while venda !=  '':\n",
    "    vendas.append(venda)\n",
    "    venda = input('Registre um produto. Para cancelar o registro de um novo produto, basta apertar enter com a caixa vazia ')\n",
    "\n",
    "print('Registro Finalizado. As vendas cadastradas foram: {} '.format(vendas))"
   ]
  },
  {
   "cell_type": "code",
   "execution_count": null,
   "metadata": {},
   "outputs": [],
   "source": []
  }
 ],
 "metadata": {
  "kernelspec": {
   "display_name": "Python 3",
   "language": "python",
   "name": "python3"
  },
  "language_info": {
   "codemirror_mode": {
    "name": "ipython",
    "version": 3
   },
   "file_extension": ".py",
   "mimetype": "text/x-python",
   "name": "python",
   "nbconvert_exporter": "python",
   "pygments_lexer": "ipython3",
   "version": "3.8.8"
  }
 },
 "nbformat": 4,
 "nbformat_minor": 4
}
